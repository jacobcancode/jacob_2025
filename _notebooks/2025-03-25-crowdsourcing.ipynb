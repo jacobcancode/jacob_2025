{
 "cells": [
  {
   "cell_type": "markdown",
   "metadata": {},
   "source": [
    "---\n",
    "layout: post\n",
    "title: Crowd Sourcing\n",
    "permalink: /posts/crowdsourcing/\n",
    "---"
   ]
  },
  {
   "cell_type": "markdown",
   "metadata": {},
   "source": [
    "Popcorn hack:\n",
    "Example: GoFundMe\n",
    "How it uses crowdsourcing: GoFundMe allows individuals to raise money by sharing their stories online. People from around the world can contribute small donations, collectively funding medical expenses, creative projects, or community causes."
   ]
  },
  {
   "cell_type": "markdown",
   "metadata": {},
   "source": [
    "Homework:\n",
    "\n",
    "\n",
    "Crowd sourcing for playlists is more effiecnt than making a playlist with only your own songs because crowd sourcing allows you to find songs that you may not remember or have heard of before.\n",
    "Songs:\n",
    "1. Firework\n",
    "2. Let Me Love You"
   ]
  }
 ],
 "metadata": {
  "language_info": {
   "name": "python"
  }
 },
 "nbformat": 4,
 "nbformat_minor": 2
}
