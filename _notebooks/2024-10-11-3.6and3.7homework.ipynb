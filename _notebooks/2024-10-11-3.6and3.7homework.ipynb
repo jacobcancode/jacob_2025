{
 "cells": [
  {
   "cell_type": "markdown",
   "metadata": {},
   "source": [
    "def compare_statements(statement1, statement2):\n",
    "    if statement1 == statement2:\n",
    "        print(\"The statements are equal.\")\n",
    "    else:\n",
    "        print(\"The statements are not equal.\")\n",
    "\n",
    "\n",
    "compare_statements(\"Hello, World!\", \"Hello, World!\")\n",
    "compare_statements(\"Hello, World!\", \"Hello!\")\n",
    " "
   ]
  },
  {
   "cell_type": "markdown",
   "metadata": {},
   "source": [
    "def compare_variables(var1, var2):\n",
    "    if var1 == var2:\n",
    "        return \"We are the same\"\n",
    "    elif len(var1) == len(var2):\n",
    "        return \"We are the same length!\"\n",
    "    else:\n",
    "        return \"We are not that similar :(\"\n",
    "\n",
    "# Example usage\n",
    "print(compare_variables(\"apple\", \"apple\"))        # We are the same\n",
    "print(compare_variables(\"apple\", \"peach\"))        # We are not that similar :(\n",
    "print(compare_variables(\"apple\", \"grape\"))        # We are the same length!\n"
   ]
  },
  {
   "cell_type": "code",
   "execution_count": null,
   "metadata": {
    "vscode": {
     "languageId": "plaintext"
    }
   },
   "outputs": [],
   "source": [
    "| A     | B     | A AND B | A OR B | A NOT | B NOT | A XOR B |\n",
    "|-------|-------|---------|--------|-------|-------|---------|\n",
    "| True  | True  | True    | True   | False | False | False   |\n",
    "| True  | False | False   | True   | False | True  | True    |\n",
    "| False | True  | False   | True   | True  | False | True    |\n",
    "| False | False | False   | False  | True  | True  | False   |\n"
   ]
  },
  {
   "cell_type": "code",
   "execution_count": null,
   "metadata": {
    "vscode": {
     "languageId": "plaintext"
    }
   },
   "outputs": [],
   "source": []
  }
 ],
 "metadata": {
  "language_info": {
   "name": "python"
  }
 },
 "nbformat": 4,
 "nbformat_minor": 2
}
