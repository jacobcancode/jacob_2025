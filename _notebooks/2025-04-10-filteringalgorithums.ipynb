{
 "cells": [
  {
   "cell_type": "raw",
   "metadata": {
    "vscode": {
     "languageId": "raw"
    }
   },
   "source": [
    "---\n",
    "layout: post\n",
    "title: Filtering Algorithms\n",
    "permalink: /posts/filtering/\n",
    "---"
   ]
  },
  {
   "cell_type": "markdown",
   "metadata": {},
   "source": [
    "Popcorn Hack 1"
   ]
  },
  {
   "cell_type": "code",
   "execution_count": 1,
   "metadata": {},
   "outputs": [
    {
     "name": "stdout",
     "output_type": "stream",
     "text": [
      "Updated Movie List: ['Inception', 'Spider-Man: Across the Spider-Verse', 'Shrek', 'The Dark Knight', 'Everything Everywhere All at Once']\n"
     ]
    }
   ],
   "source": [
    "# Create and modify a movie list\n",
    "movies = [\"Inception\", \"Interstellar\", \"Shrek\", \"The Dark Knight\"]\n",
    "movies[1] = \"Spider-Man: Across the Spider-Verse\"  # Replace second movie\n",
    "movies.append(\"Everything Everywhere All at Once\")  # Add another movie\n",
    "print(\"Updated Movie List:\", movies)\n"
   ]
  },
  {
   "cell_type": "markdown",
   "metadata": {},
   "source": [
    " Popcorn Hack #2"
   ]
  },
  {
   "cell_type": "code",
   "execution_count": 2,
   "metadata": {},
   "outputs": [
    {
     "name": "stdout",
     "output_type": "stream",
     "text": [
      "Eligible to Vote: [20, 34, 18, 21, 19]\n"
     ]
    }
   ],
   "source": [
    "# Filter for ages 18 or older\n",
    "ages = [15, 20, 34, 16, 18, 21, 14, 19]\n",
    "voting_ages = [age for age in ages if age >= 18]\n",
    "print(\"Eligible to Vote:\", voting_ages)\n"
   ]
  },
  {
   "cell_type": "markdown",
   "metadata": {},
   "source": [
    "Homework hacks\n",
    "Video 1: Complete Python List Tutorial\n",
    "Lists are ordered, mutable sequences in Python.\n",
    "\n",
    "You can use indexing and slicing to access elements.\n",
    "\n",
    "append(), insert(), remove(), and pop() are key list methods.\n",
    "\n",
    "Lists can hold multiple data types at once.\n",
    "\n",
    "Negative indexing accesses elements from the end.\n",
    "\n",
    "List comprehensions offer a fast way to filter or transform lists.\n",
    "\n",
    "Nested lists allow 2D-like structures in Python.\n",
    "\n",
    "Video 2: How to Filter Lists in Python\n",
    "Filtering is done with list comprehensions using conditional logic.\n",
    "\n",
    "if clauses inside list comprehensions make filtering efficient.\n",
    "\n",
    "Filtering is commonly used in data science and real-world analytics.\n",
    "\n",
    "Python’s filter() function can also be used, paired with lambda functions.\n",
    "\n",
    "Filtering has a linear time complexity O(n).\n",
    "\n",
    "Works well on any iterable like lists, tuples, or sets.\n",
    "\n",
    "Filtering is cleaner and faster with list comprehension compared to loops."
   ]
  },
  {
   "cell_type": "markdown",
   "metadata": {},
   "source": [
    "Homework hack 2"
   ]
  },
  {
   "cell_type": "code",
   "execution_count": 3,
   "metadata": {},
   "outputs": [
    {
     "name": "stdout",
     "output_type": "stream",
     "text": [
      "Original List: [1, 2, 3, 4, 5, 6, 7, 8, 9, 10, 11, 12, 13, 14, 15, 16, 17, 18, 19, 20, 21, 22, 23, 24, 25, 26, 27, 28, 29, 30]\n",
      "Filtered List (Div by 3, Not by 5): [3, 6, 9, 12, 18, 21, 24, 27]\n"
     ]
    }
   ],
   "source": [
    "# Create and filter numbers from 1 to 30\n",
    "numbers = list(range(1, 31))\n",
    "filtered = [num for num in numbers if num % 3 == 0 and num % 5 != 0]\n",
    "print(\"Original List:\", numbers)\n",
    "print(\"Filtered List (Div by 3, Not by 5):\", filtered)\n"
   ]
  },
  {
   "cell_type": "markdown",
   "metadata": {},
   "source": [
    "Homework Hack 3"
   ]
  },
  {
   "cell_type": "code",
   "execution_count": 5,
   "metadata": {},
   "outputs": [
    {
     "name": "stdout",
     "output_type": "stream",
     "text": [
      "Index(['Country', 'Artist', 'Album', 'Genre', 'Release Year',\n",
      "       'Monthly Listeners (Millions)', 'Total Streams (Millions)',\n",
      "       'Total Hours Streamed (Millions)', 'Avg Stream Duration (Min)',\n",
      "       'Platform Type', 'Streams Last 30 Days (Millions)', 'Skip Rate (%)'],\n",
      "      dtype='object')\n"
     ]
    }
   ],
   "source": [
    "import pandas as pd\n",
    "\n",
    "df = pd.read_csv(\"spotify_data.csv\")\n",
    "print(df.columns)\n"
   ]
  },
  {
   "cell_type": "code",
   "execution_count": 6,
   "metadata": {},
   "outputs": [
    {
     "name": "stdout",
     "output_type": "stream",
     "text": [
      "Songs with over 10M streams:\n",
      "           Artist                    Album  Total Streams (Millions)\n",
      "0    Taylor Swift  1989 (Taylor's Version)                   3695.53\n",
      "1      The Weeknd              After Hours                   2828.16\n",
      "2     Post Malone                   Austin                   1425.46\n",
      "3      Ed Sheeran        Autumn Variations                   2704.33\n",
      "4      Ed Sheeran        Autumn Variations                   3323.25\n",
      "..            ...                      ...                       ...\n",
      "495       Karol G       MAÑANA SERÁ BONITO                   2947.97\n",
      "496      Dua Lipa         Future Nostalgia                   4418.61\n",
      "497       Karol G       MAÑANA SERÁ BONITO                   2642.90\n",
      "498           SZA                      SOS                   4320.23\n",
      "499           BTS                    Proof                   4804.15\n",
      "\n",
      "[500 rows x 3 columns]\n"
     ]
    }
   ],
   "source": [
    "import pandas as pd\n",
    "\n",
    "def filter_spotify_data():\n",
    "    df = pd.read_csv(\"spotify_data.csv\")\n",
    "    # Filter songs with over 10 million total streams\n",
    "    filtered_songs = df[df[\"Total Streams (Millions)\"] > 10]\n",
    "    \n",
    "    print(\"Songs with over 10M streams:\")\n",
    "    print(filtered_songs[[\"Artist\", \"Album\", \"Total Streams (Millions)\"]])  # Just key info\n",
    "\n",
    "filter_spotify_data()\n"
   ]
  }
 ],
 "metadata": {
  "kernelspec": {
   "display_name": "venv",
   "language": "python",
   "name": "python3"
  },
  "language_info": {
   "codemirror_mode": {
    "name": "ipython",
    "version": 3
   },
   "file_extension": ".py",
   "mimetype": "text/x-python",
   "name": "python",
   "nbconvert_exporter": "python",
   "pygments_lexer": "ipython3",
   "version": "3.12.9"
  }
 },
 "nbformat": 4,
 "nbformat_minor": 2
}
