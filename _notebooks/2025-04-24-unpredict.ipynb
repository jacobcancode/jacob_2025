{
 "cells": [
  {
   "cell_type": "raw",
   "id": "b81955ad",
   "metadata": {},
   "source": [
    "---\n",
    "layout: post\n",
    "title: Unpredictable\n",
    "permalink: /posts/unpredict/\n",
    "---"
   ]
  },
  {
   "cell_type": "markdown",
   "id": "bfaecf38",
   "metadata": {},
   "source": [
    "### Popcorn Hack #1 (Graphs & Heuristics)\n",
    "\n",
    "**True or False:**\n",
    "In a directed graph, an edge from node A to node B implies that there is always a corresponding edge from node B to node A.\n",
    "**Answer:** False.\n",
    "Explanation: In a directed graph, edges have a direction, so an edge from A to B does not imply there is an edge from B to A."
   ]
  },
  {
   "cell_type": "code",
   "execution_count": 2,
   "id": "7ebffc02",
   "metadata": {},
   "outputs": [
    {
     "name": "stdout",
     "output_type": "stream",
     "text": [
      "Popcorn Hack #1 Answer: False\n"
     ]
    }
   ],
   "source": [
    "print(\"Popcorn Hack #1 Answer: False\")"
   ]
  },
  {
   "cell_type": "markdown",
   "id": "090e1ebb",
   "metadata": {},
   "source": [
    "### Popcorn Hack #2 (Heuristics)\n",
    "\n",
    "**True or False:**\n",
    "Heuristics always provide faster solutions than exact algorithms, but they may sacrifice accuracy for speed.\n",
    "**Answer:** True.\n",
    "Explanation: Heuristics generally offer quicker, approximate solutions to problems but can sacrifice accuracy for speed, unlike exact algorithms, which aim for precise answers but may take longer."
   ]
  },
  {
   "cell_type": "markdown",
   "id": "20cde31e",
   "metadata": {},
   "source": [
    "### Popcorn Hack #3 (Traveling Salesman Problem)\n",
    "\n",
    "**True or False:**\n",
    "While heuristic algorithms like the Nearest Neighbor algorithm can significantly reduce the computational time for TSP, they can never guarantee an optimal solution, and the gap between the heuristic solution and the optimal solution can grow exponentially as the number of cities increases.\n",
    "**Answer:** True.\n",
    "Explanation: Heuristic algorithms such as Nearest Neighbor can reduce the computation time for the TSP problem, but they do not guarantee the best (optimal) solution. As the number of cities increases, the gap between the heuristic solution and the optimal solution may grow significantly."
   ]
  },
  {
   "cell_type": "code",
   "execution_count": 3,
   "id": "752d7b2e",
   "metadata": {},
   "outputs": [
    {
     "name": "stdout",
     "output_type": "stream",
     "text": [
      "Popcorn Hack #3 Answer: True\n"
     ]
    }
   ],
   "source": [
    "print(\"Popcorn Hack #3 Answer: True\")"
   ]
  },
  {
   "cell_type": "markdown",
   "id": "155a6670",
   "metadata": {},
   "source": [
    "### Undecidable Problems Homework\n",
    "\n",
    "**Question:**\n",
    "Investigate and describe how modern operating systems and browsers handle infinite loops or excessively long-running scripts. What mechanisms are in place to detect and mitigate such issues? Provide real-world examples of these mechanisms in action, such as specific error messages, timeouts, or automated recovery processes.\n",
    "\n",
    "**Answer:**\n",
    "Modern operating systems and browsers handle infinite loops or excessively long-running scripts using several mechanisms to ensure the system remains responsive:\n",
    "\n",
    "1. **Timeouts**: Browsers like Chrome or Firefox implement timeouts to terminate scripts that run for too long. If a script runs for a predefined period without completing, the browser will stop it to prevent it from locking up the entire page.\n",
    "   - **Example**: In Google Chrome, the error message \"This page is not responding\" appears if a script is unresponsive for a certain period.\n",
    "\n",
    "2. **Thread/Process Termination**: Operating systems can monitor processes and terminate those that are running indefinitely (e.g., infinite loops). They might invoke an automated kill command or notify the user.\n",
    "   - **Example**: On Windows, the Task Manager can be used to end processes that are not responding.\n",
    "\n",
    "3. **Resource Limits**: Many systems implement resource limits for scripts or processes (e.g., CPU usage or memory allocation). If a process exceeds these limits, it is automatically terminated.\n",
    "   - **Example**: In Node.js, developers can set a maximum execution time for server-side scripts to prevent long-running processes from consuming excessive server resources.\n",
    "\n",
    "4. **Error Messages**: Browsers and operating systems provide error messages when scripts or processes encounter infinite loops. These messages inform the user of the issue and offer recovery options, such as stopping the script or restarting the process.\n",
    "   - **Example**: A common error in browsers is \"A script on this page is causing your web browser to run slowly.\"\n",
    "\n",
    "These mechanisms prevent system crashes and ensure users can regain control when encountering infinite loops or other long-running processes."
   ]
  }
 ],
 "metadata": {
  "kernelspec": {
   "display_name": "venv",
   "language": "python",
   "name": "python3"
  },
  "language_info": {
   "codemirror_mode": {
    "name": "ipython",
    "version": 3
   },
   "file_extension": ".py",
   "mimetype": "text/x-python",
   "name": "python",
   "nbconvert_exporter": "python",
   "pygments_lexer": "ipython3",
   "version": "3.12.9"
  }
 },
 "nbformat": 4,
 "nbformat_minor": 5
}
