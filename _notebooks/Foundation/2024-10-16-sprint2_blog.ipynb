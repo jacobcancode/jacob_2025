{
 "cells": [
  {
   "cell_type": "markdown",
   "metadata": {},
   "source": [
    "* In our group lesson on organizing data and different types of variables, I found the information extremely useful for creating descriptions of products and items. We worked on a JSON page, which helped us understand how to structure data effectively. I also helped review other parts of the lesson for errors to ensure everything was accurate.\n",
    "\n",
    "* I particularly enjoyed Kush's lesson because it taught me how to apply math in a coding context. Understanding how to code mathematical concepts enhances my math skills, making it easier for me to tackle problems in math class.\n",
    "\n",
    "* Overall, all the concepts we learned, especially from Kush's lesson, will be valuable for me in the future. I believe these skills will help me throughout my life.\n"
   ]
  }
 ],
 "metadata": {
  "language_info": {
   "name": "python"
  }
 },
 "nbformat": 4,
 "nbformat_minor": 2
}
