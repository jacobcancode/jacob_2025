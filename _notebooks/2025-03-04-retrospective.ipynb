{
 "cells": [
  {
   "cell_type": "raw",
   "metadata": {
    "vscode": {
     "languageId": "raw"
    }
   },
   "source": [
    "---\n",
    "layout: post\n",
    "title: Retrospective and Self Gradng\n",
    "permalink: /posts/retro\n",
    "comments: true\n",
    "---"
   ]
  },
  {
   "cell_type": "markdown",
   "metadata": {},
   "source": [
    "# 1. Taking Extreme Interest in Other Projects and People\n",
    "One of the most valuable takeaways for me has been the ability to engage deeply with others' projects. For example, I made it a point to actively participate in and offer feedback on N@tM reviews. This not only helped me learn from others but also allowed me to make connections and personalize my contributions in ways that felt meaningful. This feedback from N@tM fuled me to make changes to my site even past this project being done\n",
    "\n",
    "# 2. Reaching Out to Help Others\n",
    "In an effort to build stronger connections and support my peers, I reached out to help someone new get organized for their Final Exam. I took the initiative to organize their materials, provide guidance, and even held a practice/preliminary live review session with them (or Ms. Pataki). This experience was both rewarding and insightful—it helped me develop stronger communication skills while assisting someone else in a challenging time.\n",
    "\n",
    "# 3. Planning for the Future\n",
    "Thinking ahead to my next steps in Computer Science has been an essential part of my reflection. I’ve been contemplating the classes I should take, potential college options, and the internships that could help me grow professionally. These thoughts are guiding my decisions, and I’m working to identify what path will best align with my interests and long-term goals in the field.\n",
    "\n",
    "# 4. Reflection on Individual Strengths and Weaknesses\n",
    "Through ongoing self-reflection, I’ve gained a better understanding of my strengths and weaknesses. I’ve noticed that I excel in areas where I can collaborate with others and stay organized. However, I recognize that I need to continue working on time management, especially under tight deadlines, and I want to focus on improving my ability to remain focused when juggling multiple responsibilities.\n",
    "\n",
    "# 5. Reflecting on Project and Next Steps\n",
    "Looking back at recent projects, I see both strengths and areas for improvement. A key strength was my ability to communicate effectively with the team and ensure everyone was on the same page. However, I need to improve in delegating tasks and making quicker decisions to keep the project moving smoothly. For my next steps, I plan to set clearer goals for each phase of a project and track my progress more diligently to avoid delays and improve the overall workflow. I plan to continue working on this in my spare time because it is something that intrests and has endless things that can be added/worked on.\n",
    "## Things I want to add to my project in the future\n",
    "- Connecting Data bases together\n",
    "- Cookie Features on site\n",
    "- More social media aspects to the site\n",
    "- More advanced databases\n",
    "# 6. Honest Self-Assessment\n",
    "As part of my preparation for the live reviews, I make it a point to include an honest self-assessment of my performance on the topics we’re covering. This has helped me become more aware of my progress, areas where I need improvement, and how I can push myself further. I’ve found this practice to be an essential part of personal growth and accountability.\n",
    "\n",
    "## Grade I diserve: 9.3/10\n",
    "5 things I did: 4.5/5\n",
    "Full Stack Project Demo, including CPT requirement highlights, and N@tM feedback: 1.9/2\n",
    "MCQ:1/1\n",
    "10th point: 0.8/10\n",
    "While is this the grade I think I diserve on the final it wont give me an A in the class, I belive that my improvement this tri and work I have put in is worth diserving of an A. My end result of work can be compared to people that have an A in the class. So this is why I think that I should get a grade on the final that will give me an A in the class. This should be around a 9.6 or 9.7 on the final.\n",
    "\n",
    "\n",
    "# In the coming months, I’ll prioritize:\n",
    "\n",
    "Seeking out opportunities for hands-on learning and applying new concepts in real-world projects\n",
    "Expanding my network and working with a more diverse group of people\n",
    "Setting clearer, measurable goals for my academic and professional growth\n",
    "Ultimately, my goal is to remain open to feedback, stay curious, and keep challenging myself to improve. I look forward to seeing how these reflections shape my next steps and contribute to my future success."
   ]
  }
 ],
 "metadata": {
  "language_info": {
   "name": "python"
  }
 },
 "nbformat": 4,
 "nbformat_minor": 2
}
