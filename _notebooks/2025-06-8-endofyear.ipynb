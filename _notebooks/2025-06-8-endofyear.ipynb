{
 "cells": [
  {
   "cell_type": "raw",
   "id": "2bffcab8",
   "metadata": {
    "vscode": {
     "languageId": "raw"
    }
   },
   "source": [
    "---\n",
    "layout: post\n",
    "title: My Year of Coding Projects & Progress\n",
    "permalink: /posts/endofyear/\n",
    "---"
   ]
  },
  {
   "cell_type": "markdown",
   "id": "1a1fbcd1",
   "metadata": {},
   "source": [
    "\n",
    "## Introduction  \n",
    "\n",
    "Hello, I’m **Jacob Zierolf**. This past year, I’ve explored the world of coding through both structured coursework and hands-on project work. I’ve had the opportunity to apply my skills in real-world settings and collaborate with a team to bring useful applications to life.\n",
    "\n",
    "This blog documents my key project(s), highlights how I’ve grown as a developer, and provides stats and artifacts from my year-long coding journey.\n"
   ]
  },
  {
   "cell_type": "markdown",
   "id": "88dba413",
   "metadata": {},
   "source": [
    "\n",
    "## Key Interests & How Coding Intersects  \n",
    "\n",
    "I’m passionate about using technology to improve people’s lives. Whether it’s making healthcare data more accessible or designing user-friendly experiences, coding allows me to turn ideas into practical tools.  \n",
    "\n",
    "One of my strengths is **flexibility** — I can quickly adapt and contribute where the team needs me. I’ve worked across front-end, back-end, and deployment tasks, learning new skills along the way.\n"
   ]
  },
  {
   "cell_type": "markdown",
   "id": "66f5283e",
   "metadata": {},
   "source": [
    "\n",
    "## Favorite Project: MediPulse  \n",
    "\n",
    "**MediPulse** is a healthcare insights platform that empowers patients to make informed hospital choices.  \n",
    "\n",
    "### My Contributions:  \n",
    "- Helped design and implement the front-end user experience  \n",
    "- Supported the back-end development and deployed the API on **Cockpit (AWS)**  \n",
    "- Worked on integrating **social media optimization** for San Diego hospital YouTube channels  \n",
    "- Contributed to the **hospital analysis feature** with interactive dashboards  \n",
    "\n",
    "### Teamwork Highlight:  \n",
    "My flexibility allowed me to contribute across multiple parts of the stack — wherever the team needed extra support.\n"
   ]
  },
  {
   "cell_type": "markdown",
   "id": "d4387f5d",
   "metadata": {},
   "source": [
    "\n",
    "## Homework Success & Certification  \n",
    "\n",
    "Over the course of the year, I successfully completed a full sequence of coding assignments and homework projects.  \n",
    "\n",
    "**Key accomplishments:**  \n",
    "✅ Completed all required AP CSP homework tasks  \n",
    "✅ Contributed to team project codebases  \n",
    "✅ Practiced and applied concepts such as version control, cloud deployment, and UI/UX design  \n",
    "\n",
    "This consistent effort has built my confidence and competence as a developer.\n"
   ]
  },
  {
   "cell_type": "markdown",
   "id": "743e88e4",
   "metadata": {},
   "source": [
    "\n",
    "## Homework Success & Certification  \n",
    "\n",
    "Over the course of the year, I completed a wide range of coding lessons and homework assignments as part of AP CSP. Here is a list of the key homework topics I worked on:\n",
    "\n",
    "### Big Idea 5\n",
    "- **Beneficial / Harmful Effects** (Due: 3/21/2025)  \n",
    "- **Digital Divide** (Due: 3/24/2025)  \n",
    "- **Computing Bias** (Due: 3/26/2025)  \n",
    "- **Crowdsourcing** (Due: 3/26/2025)  \n",
    "- **Legal / Ethical Concerns** (Due: 4/1/2025)  \n",
    "- **Safe Computing** (Due: 4/3/2025)  \n",
    "\n",
    "### Big Idea 3\n",
    "- **Binary Search Algorithm** (Due: 4/8/2025)  \n",
    "- **Lists and Filtering Algorithm** (Due: 4/9/2025)  \n",
    "- **Simulation/Games and Random Algorithms** (Due: 4/21/2025)  \n",
    "- **Big O and Algorithm Efficiency** (Due: 4/22/2025)  \n",
    "- **Undecidable Problems, Graphs + Heuristics** (Due: 4/24/2025)  \n",
    "- **Binary Base 2 Math + Logic Gates** (Due: 5/2/2025)  \n",
    "- **Color Codes/Images/Base64** (Due: 5/6/2025)  \n",
    "\n",
    "**By completing these homeworks on time and participating actively in group work, I demonstrated both technical understanding and strong collaboration skills.**\n"
   ]
  },
  {
   "cell_type": "markdown",
   "id": "1bfeba49",
   "metadata": {},
   "source": [
    "\n",
    "## Project Showcasing  \n",
    "\n",
    "We showcased our project on our **LinkedIn pages**, allowing it to reach a broader professional audience and demonstrating our ability to communicate project impact to others.\n"
   ]
  },
  {
   "cell_type": "markdown",
   "id": "447a53a7",
   "metadata": {},
   "source": [
    "\n",
    "## GitHub Participation: Stats & Artifacts  \n",
    "\n",
    "I contributed actively to our GitHub repositories through:  \n",
    "- Issues (bug tracking and feature suggestions)  \n",
    "- Pull Requests (PRs)  \n",
    "- Commits (code contributions)  \n",
    "\n",
    "Here is a suggested GitHub stats dashboard you can include (replace `YOUR_GITHUB_USERNAME` with your actual username):\n",
    "\n",
    "```markdown\n",
    "![Jacob Zierolf's GitHub Stats](https://github-readme-stats.vercel.app/api?username=YOUR_GITHUB_USERNAME&show_icons=true&theme=radical)\n",
    "\n",
    "![Top Langs](https://github-readme-stats.vercel.app/api/top-langs/?username=YOUR_GITHUB_USERNAME&layout=compact&theme=radical)\n",
    "```\n"
   ]
  },
  {
   "cell_type": "markdown",
   "id": "d75b6e35",
   "metadata": {},
   "source": [
    "\n",
    "## Conclusion  \n",
    "\n",
    "This year has been an incredible learning experience. Through building **MediPulse**, completing homework assignments, and showcasing my work publicly, I’ve grown as a developer and as a teammate.  \n",
    "\n",
    "I look forward to applying these skills in future projects and continuing to explore new technologies.\n"
   ]
  },
  {
   "cell_type": "markdown",
   "id": "a97a1236",
   "metadata": {},
   "source": [
    "\n",
    "# 🚀 Next Steps  \n",
    "\n",
    "Try out our project and check out my LinkedIn for more updates!\n"
   ]
  }
 ],
 "metadata": {
  "language_info": {
   "name": "python"
  }
 },
 "nbformat": 4,
 "nbformat_minor": 5
}
