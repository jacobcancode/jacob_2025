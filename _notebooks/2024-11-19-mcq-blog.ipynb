{
 "cells": [
  {
   "cell_type": "markdown",
   "metadata": {},
   "source": [
    "---\n",
    "layout: post\n",
    "title: MCQ Reflection\n",
    "permalink: /posts/mcq\n",
    "comments: true\n",
    "---"
   ]
  },
  {
   "cell_type": "markdown",
   "metadata": {},
   "source": [
    "The practice quiz helped me understand key computer science concepts like data representation, algorithms, and data structures. I learned that it’s important to think critically about how computers work and how problems can be solved using different methods. The quiz showed me which topics I understand well and which areas need more practice.\n",
    "\n",
    "<div style=\"text-align: center;\">\n",
    "  <img src=\"{{site.baseurl}}/images/Mcqreflection.png\" width=\"350px\" height=\"500px\" alt=\"MCQ Reflection\">\n",
    "</div>\n",
    "\n",
    "Looking back at the quiz the main thing I struggled with was fully reading and comprehnding the questions which led to me missing important details and getting the wrong answer. I also struggled with questions on loops specifically nested loops.\n",
    "\n",
    "My main correction for nested loops was a small error in the way I was viewing the loops. After realizing this when going over my answers I now understand it better.\n",
    "\n"
   ]
  }
 ],
 "metadata": {
  "language_info": {
   "name": "python"
  }
 },
 "nbformat": 4,
 "nbformat_minor": 2
}
