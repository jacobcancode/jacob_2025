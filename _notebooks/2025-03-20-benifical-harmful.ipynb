{
 "cells": [
  {
   "cell_type": "raw",
   "metadata": {
    "vscode": {
     "languageId": "raw"
    }
   },
   "source": [
    "---\n",
    "layout: post\n",
    "title: Benefit/Harm of Technology\n",
    "permalink: /posts/benificalharms/\n",
    "---"
   ]
  },
  {
   "cell_type": "markdown",
   "metadata": {},
   "source": [
    "Popcorn hack 1: how do technological invocation impact in both positive and negative ways(provie examples)\n",
    "\n",
    "One positive of technology is it boosts efficiency, improves healthcare, and enhances communication (e.g., AI diagnostics and remote work platforms). However, it can also lead to job displacement, privacy concerns, and increased environmental damage (e.g., automation reducing jobs and e-waste from electronic devices)"
   ]
  },
  {
   "cell_type": "markdown",
   "metadata": {},
   "source": [
    "Popcorn hack 2: What is the meaning of negative effects of technology. and how can we use reponsible programing to reduce these impacts.\n",
    "\n",
    "The negative effects of technology are job displacement, privacy violations, mental health issues, cyber bullying, and environmental harm. Responsible programming can reduce these impacts by ensuring ethical AI practices, enhancing data security, promoting accessibility, and minimizing environmental impact through  coding and sustainable technology.\n"
   ]
  },
  {
   "cell_type": "markdown",
   "metadata": {},
   "source": [
    "Popcorn hack 3: Why is it important to understand the consequencwes of technology, especially dopimine driven technology?\n",
    "Dopamine-driven technology, like social media and video games, keeps people hooked by triggering the brain’s “feel-good” chemical. This can lead to addiction, reduced focus, and mental health issues. Understanding these effects helps people make better choices and set healthy limits."
   ]
  },
  {
   "cell_type": "markdown",
   "metadata": {},
   "source": [
    "Homework Hack #1: Rethinking AI\n",
    "Facial recognition, made for security, could be used in theme parks to make visits easier. It could load ride preferences and suggest favorite foods by recognizing guests’ faces. This would save time and improve the experience, but it might invade privacy and put personal data at risk.\n",
    "\n",
    "Homework Hack #2: Ethical AI\n",
    "AI used in predictive policing can be unfair by targeting certain communities more than others. This happens when the system learns from biased data. To fix this, developers should use fair data and check AI results regularly. Ethical AI is important because mistakes can harm people and fairness builds trust.\n",
    "\n",
    "Homework Hack #3: AI & Unintended Consequences or AI\n",
    "Amazon’s AI hiring tool unfairly favored male applicants because it learned from past hiring data that was biased. Amazon stopped using it, but the problem could have been avoided by testing for bias and using fair data. Developers should always check AI systems to prevent harm."
   ]
  }
 ],
 "metadata": {
  "language_info": {
   "name": "python"
  }
 },
 "nbformat": 4,
 "nbformat_minor": 2
}
