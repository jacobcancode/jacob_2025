{
 "cells": [
  {
   "cell_type": "raw",
   "metadata": {
    "vscode": {
     "languageId": "raw"
    }
   },
   "source": [
    "---\n",
    "layout: post\n",
    "title: Legal Ethical\n",
    "permalink: /posts/legal/\n",
    "---"
   ]
  },
  {
   "cell_type": "markdown",
   "metadata": {},
   "source": [
    "Popcorn Hacks\n",
    "1. Protecting Intellectual Property\n",
    "Ways to protect intellectual property (IP):\n",
    "\n",
    "Copyright – Protects creative works like books, music, and software.\n",
    "\n",
    "Trademark – Protects brand names, logos, and slogans.\n",
    "\n",
    "Patent – Protects inventions and new technologies.\n",
    "\n",
    "Trade Secret – Protects confidential business information.\n",
    "\n",
    "Licensing – Allows controlled use of IP by others.\n",
    "\n",
    "NDAs (Non-Disclosure Agreements) – Prevents sharing of confidential info.\n",
    "\n",
    "2. MIT License Definition & Example for Your Repo\n",
    "The MIT License is a permissive open-source license that allows anyone to use, modify, and distribute software, as long as they include the original copyright notice and liability disclaimer.\n",
    "\n",
    "Example for Your Repo:\n",
    "\n",
    "plaintext\n",
    "Copy\n",
    "Edit\n",
    "MIT License  \n",
    "\n",
    "Copyright (c) 2025 Jacob Zierolf \n",
    "\n",
    "Permission is hereby granted, free of charge, to any person obtaining a copy  \n",
    "of this software and associated documentation files (the \"Software\"), to deal  \n",
    "in the Software without restriction, including without limitation the rights  \n",
    "to use, copy, modify, merge, publish, distribute, sublicense, and/or sell  \n",
    "copies of the Software, and to permit persons to whom the Software is  \n",
    "furnished to do so, subject to the following conditions:  \n",
    "\n",
    "3. Preventing Copyright Infringement\n",
    "Ways to Prevent Copyright Infringement (Jupyter Notebook Entry):\n",
    "\n",
    "Always give proper credit when using others’ work.\n",
    "\n",
    "Get permission before using copyrighted materials.\n",
    "\n",
    "Use royalty-free or Creative Commons content when possible.\n",
    "\n",
    "Implement DRM (Digital Rights Management) for protection.\n",
    "\n",
    "Register your own copyrights to protect your work.\n",
    "\n",
    "Monitor online platforms for unauthorized use of your content.\n",
    "\n",
    "People I worked with: Eliot\n",
    "\n",
    "Homework Hack: Choosing a License for Your Personal Repo\n",
    "Task 1: Select a License\n",
    "I choose the MIT License because it is permissive and allows others to use my code with minimal restrictions.\n",
    "\n",
    "Task 2: Explain Your Choice\n",
    "The MIT License is widely used and encourages open collaboration. It ensures that my project is accessible while protecting me from liability. Users can freely modify and share my code without legal restrictions. This promotes innovation and widespread adoption of my work.\n",
    "\n",
    "Task 3: Add the License to Your Repository\n",
    "\n",
    "\n",
    "Extra Credit (0.01 Bonus)\n",
    "Task 4: Define Your Project\n",
    "My CPT/Pilot City project is called [Project Name]. It focuses on [brief description, e.g., improving urban sustainability, educational tools, automation, etc.].\n",
    "\n",
    "Key features:\n",
    "Machine learning\n",
    "Pre data processing using pandas\n",
    "sorting data and displaying\n",
    "\n",
    "Task 5: Add a Different License to Your CPT/Pilot City Repo\n",
    "Choose a different license (e.g., GPL, Apache, Creative Commons).\n",
    "\n",
    "© 2025 MediPulse. All rights reserved."
   ]
  }
 ],
 "metadata": {
  "language_info": {
   "name": "python"
  }
 },
 "nbformat": 4,
 "nbformat_minor": 2
}
