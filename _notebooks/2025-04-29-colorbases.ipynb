{
 "cells": [
  {
   "cell_type": "raw",
   "id": "abd042c2",
   "metadata": {
    "vscode": {
     "languageId": "raw"
    }
   },
   "source": [
    "---\n",
    "layout: post\n",
    "title: Color bases\n",
    "permalink: /posts/cb/\n",
    "---"
   ]
  },
  {
   "cell_type": "markdown",
   "id": "316531ae",
   "metadata": {},
   "source": [
    "\n",
    "# Homework Hack Responses\n",
    "\n",
    "## 1. What is a hex color code? What are some examples?\n",
    "A hex color code is a six-digit code that represents a color using numbers 0–9 and letters A–F. It starts with `#`. Each pair of digits represents the Red, Green, and Blue (RGB) values.\n",
    "\n",
    "**Examples**:\n",
    "- `#FF0000` → Red\n",
    "- `#00FF00` → Green\n",
    "- `#0000FF` → Blue\n",
    "\n",
    "## 2. What is Base64 and how is it used with images?\n",
    "Base64 is a method of encoding binary data (like images) into text. It allows images to be safely transmitted or embedded into text files like HTML, CSS, and emails.\n",
    "\n",
    "**Use with images**:\n",
    "Images can be converted into Base64 text and directly embedded into a webpage without needing a separate image file.\n",
    "\n",
    "## 3. Why might you use Base64 instead of a regular image file?\n",
    "You might use Base64 if:\n",
    "- You want to send images inside emails without attachments.\n",
    "- You want faster small-image loading (like icons or logos) in websites.\n",
    "- You need to avoid extra file requests for performance.\n"
   ]
  },
  {
   "cell_type": "markdown",
   "id": "90c2e5c5",
   "metadata": {},
   "source": [
    "\n",
    "# Insert an Image and Explain How It’s Stored and Displayed\n",
    "<img src=\"{{site.baseurl}}/downlaod(8).jpeg\">\n",
    "\n",
    "**Explanation**:\n",
    "- The image `download(8).jpeg` is a file containing pixel data.\n",
    "- Each pixel’s color is stored using RGB (Red, Green, Blue) values.\n",
    "- When the notebook runs `<img src=`, it reads the file and shows it by decoding the stored pixel data.\n"
   ]
  },
  {
   "cell_type": "markdown",
   "id": "51655cef",
   "metadata": {},
   "source": [
    "\n",
    "# Popcorn Hack Answers\n",
    "\n",
    "## 1. Alpha Transparency Scenario\n",
    "Alpha transparency would be helpful when creating a popup notification on a website. The popup background could be 50% transparent so the user can still slightly see the page behind it.\n",
    "\n",
    "## 2. Best Format for Transparent Background (Practice MCQ)\n",
    "**Answer: B) PNG**\n",
    "\n",
    "- PNG supports transparency and keeps images sharp.\n",
    "\n",
    "## 3. Drawback of Base64 in Real Life\n",
    "One downside of Base64 is that it **increases the file size by about 33%**, making websites or systems slower if used too much.\n",
    "\n",
    "## 4. Which is true about Base64? (Practice MCQ)\n",
    "**Answer: B) It increases the size of the data.**\n"
   ]
  },
  {
   "cell_type": "markdown",
   "id": "bf13dfcc",
   "metadata": {},
   "source": [
    "\n",
    "# Final Quick Summary (TL;DR)\n",
    "\n",
    "- **Hex Codes** = 6-digit color codes like `#FF0000`.\n",
    "- **Base64** = text-encoding method to send binary files safely.\n",
    "- **Base64 Drawbacks** = bigger size, not encryption.\n",
    "- **PNG** = best for images with transparent backgrounds.\n"
   ]
  }
 ],
 "metadata": {
  "language_info": {
   "name": "python"
  }
 },
 "nbformat": 4,
 "nbformat_minor": 5
}
