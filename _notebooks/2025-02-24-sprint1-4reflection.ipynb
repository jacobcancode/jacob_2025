{
 "cells": [
  {
   "cell_type": "code",
   "execution_count": null,
   "metadata": {},
   "outputs": [],
   "source": [
    "---\n",
    "layout: post\n",
    "title: Sprint 1-4 Blog\n",
    "permalink: /posts/sprintsblogs\n",
    "comments: true\n",
    "---"
   ]
  },
  {
   "cell_type": "markdown",
   "metadata": {
    "vscode": {
     "languageId": "plaintext"
    }
   },
   "source": [
    "# Sprint 1: Tools and Software Development Processes\n",
    "In Sprint 1, the focus is on setting up a strong foundation for our coding journey. This sprint emphasizes learning essential tools and software development processes that will support our future projects. During the first three weeks, we dive into important areas like Linux tool setup, Markdown, HTML, and JavaScript.\n",
    "\n",
    "As a part of this sprint, we will gain hands-on experience with blogging, coding in Jupyter Notebooks, and using GitHub Pages to showcase our progress. These tools will help us as we start building our technical skills. By the end of Sprint 1, we'll be equipped with the necessary knowledge and tools to begin the College Board Create Task and embark on our Full Stack Web Development with Python journey.\n",
    "\n",
    "The key takeaway from Sprint 1 is mastering the setup of tools like Linux and learning how to document our coding journey through blogs. Markdown will help us structure our writing, while HTML and JavaScript will lay the groundwork for web development. This sprint is essential for establishing a solid base before tackling more advanced coding concepts in future sprints.\n",
    "\n"
   ]
  },
  {
   "cell_type": "markdown",
   "metadata": {
    "vscode": {
     "languageId": "plaintext"
    }
   },
   "source": [
    "# Sprint 3: Web Application, Data, and N@tM\n",
    "In Sprint 3, students will focus on building their own website, which will serve as a collaborative project for a team. The project will require the use of Python Flask for backend development and JavaScript for frontend interaction. Throughout this sprint, students will have the opportunity to apply the skills learned in previous sprints while diving deeper into web development.\n",
    "\n",
    "A major goal in Sprint 3 is to create a fully deployed website with both frontend and backend components, combining the server-side and client-side aspects of web development. Additionally, each student will be blogging their learning experiences, documenting both challenges and breakthroughs along the way. This sprint provides practical experience in both front-end and back-end development, helping students prepare for full-stack web development.\n",
    "\n",
    "By the end of the sprint, students will have a working website that showcases their individual and collective skills. The team project will be presented at the \"Night at the Museum\" event in November, which marks the culmination of the work done during the sprint. This event will allow students to showcase their hard work and gain valuable feedback from their peers and instructors."
   ]
  },
  {
   "cell_type": "markdown",
   "metadata": {
    "vscode": {
     "languageId": "plaintext"
    }
   },
   "source": [
    "# Sprint 4: Warm-up Create Performance Task, Data Abstraction, Computer Systems, Networks, Impact of Computing\n",
    "\n",
    "Sprint 4 begins the second trimester and takes a deeper dive into more advanced topics in computer science. During this sprint, students will advance their social media project, which integrates both frontend style and backend data. This sprint is crucial for students preparing for the College Board’s Create Performance Task (CPT).\n",
    "\n",
    "The focus here is on the ideation and development of the CPT project, which should include a user-friendly frontend using tools like SASS and JavaScript to interact with user events. Additionally, a database will be required to store personal data structures, ensuring students learn the importance of data abstraction and how backend systems interact with the frontend.\n",
    "\n",
    "This sprint also includes preparing for the College Board multiple-choice questions (MCQ), with assigned topics to help students get ready for the exam. Topics will include the impact of computing, computer systems, networks, and data abstraction, all of which are essential concepts for both the CPT and the MCQ exam.\n",
    "\n",
    "Overall, Sprint 4 is designed to bridge the gap between coding theory and practical application, allowing students to create complex projects while also preparing for upcoming exams. The combination of frontend and backend work along with deeper explorations of computing concepts will help students sharpen their coding skills and theoretical knowledge."
   ]
  }
 ],
 "metadata": {
  "language_info": {
   "name": "python"
  }
 },
 "nbformat": 4,
 "nbformat_minor": 2
}
