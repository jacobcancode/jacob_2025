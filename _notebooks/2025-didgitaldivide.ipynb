{
 "cells": [
  {
   "cell_type": "markdown",
   "metadata": {},
   "source": [
    "Popcorn hack 2: How would you attempt to fix the didgital divide in our comunity or prevent it from being as prevalent in our cmmunity? what are some things that re a;ready being done? what are some things we can add? explain\n"
   ]
  }
 ],
 "metadata": {
  "language_info": {
   "name": "python"
  }
 },
 "nbformat": 4,
 "nbformat_minor": 2
}
