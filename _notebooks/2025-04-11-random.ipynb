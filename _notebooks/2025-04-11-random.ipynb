{
 "cells": [
  {
   "cell_type": "raw",
   "metadata": {
    "vscode": {
     "languageId": "raw"
    }
   },
   "source": [
    "---\n",
    "layout: post\n",
    "title: Random Algorithms\n",
    "permalink: /posts/random/\n",
    "---"
   ]
  },
  {
   "cell_type": "markdown",
   "metadata": {},
   "source": [
    "Popcorn hack2"
   ]
  },
  {
   "cell_type": "code",
   "execution_count": 3,
   "metadata": {},
   "outputs": [
    {
     "name": "stdout",
     "output_type": "stream",
     "text": [
      "Today’s random activity: Write a story\n"
     ]
    }
   ],
   "source": [
    "# Popcorn Hack Number 2 (Random): Make a random algorithm to choose a daily activity:\n",
    "import random\n",
    "# Step 1: Define a list of activities\n",
    "activities = ['dog walk', ' Watch a show', 'Call a family', 'cook', 'watch a movie', 'go to bed', 'workout', 'Write a story', 'do yoga', 'Listen to music', 'Do anything but homework']\n",
    "# Step 2: Randomly choose an activity\n",
    "random_activity = random.choice(activities)\n",
    "# Step 3: Display the chosen activity\n",
    "print(f\"Today’s random activity: {random_activity}\")"
   ]
  },
  {
   "cell_type": "markdown",
   "metadata": {},
   "source": [
    "Popcorn Hack 3\n"
   ]
  },
  {
   "cell_type": "code",
   "execution_count": 4,
   "metadata": {},
   "outputs": [
    {
     "name": "stdout",
     "output_type": "stream",
     "text": [
      "Gavin will be monitoring games!\n",
      "Johan will be monitoring karaoke!\n",
      "Jacob will be monitoring photo booth!\n",
      "Elliot will be monitoring dancing!\n"
     ]
    }
   ],
   "source": [
    "import random\n",
    "hosts = ['Gavin', 'Johan', 'Jacob', 'Elliot']\n",
    "activities = ['dancing', 'games', 'snack center', 'photo booth', 'karaoke', 'take a selfie', ]\n",
    "# Randomly shuffle the list of activities to assign them randomly to the guests\n",
    "random.shuffle(activities)\n",
    "# Loop through each guest and assign them a random activity\n",
    "for i in range(len(hosts)):\n",
    "    print(f\"{hosts[i]} will be monitoring {activities[i]}!\")"
   ]
  },
  {
   "cell_type": "markdown",
   "metadata": {},
   "source": [
    "Popcorn Hack 1"
   ]
  },
  {
   "cell_type": "code",
   "execution_count": 6,
   "metadata": {},
   "outputs": [
    {
     "name": "stdout",
     "output_type": "stream",
     "text": [
      "Spinner landed on: 6\n"
     ]
    }
   ],
   "source": [
    "import random\n",
    "\n",
    "def spin_number():\n",
    "    return random.randint(1, 10)  # You can change 1 and 10 to whatever range you want\n",
    "\n",
    "spin_result = spin_number()\n",
    "print(\"Spinner landed on:\", spin_result)\n"
   ]
  },
  {
   "cell_type": "markdown",
   "metadata": {},
   "source": [
    "Popcorn Hack 2"
   ]
  },
  {
   "cell_type": "code",
   "execution_count": 5,
   "metadata": {},
   "outputs": [
    {
     "name": "stdout",
     "output_type": "stream",
     "text": [
      "Computer chose: rock\n",
      "You chose: rock\n",
      "It's a tie!\n"
     ]
    }
   ],
   "source": [
    "import random\n",
    "\n",
    "def play_rock_paper_scissors():\n",
    "    choices = ['rock', 'paper', 'scissors']\n",
    "    computer_choice = random.choice(choices)\n",
    "    user_choice = input(\"Enter your choice (rock, paper, or scissors): \")\n",
    "\n",
    "    if user_choice not in choices:\n",
    "        print(\"Invalid choice. Please try again.\")\n",
    "        return\n",
    "\n",
    "    print(\"Computer chose:\", computer_choice)\n",
    "    print(\"You chose:\", user_choice)\n",
    "\n",
    "    if user_choice == computer_choice:\n",
    "        print(\"It's a tie!\")\n",
    "    elif (user_choice == 'rock' and computer_choice == 'scissors') or \\\n",
    "         (user_choice == 'paper' and computer_choice == 'rock') or \\\n",
    "         (user_choice == 'scissors' and computer_choice == 'paper'):\n",
    "        print(\"You win!\")\n",
    "    else:\n",
    "        print(\"You lose!\")\n",
    "\n",
    "play_rock_paper_scissors()\n"
   ]
  },
  {
   "cell_type": "markdown",
   "metadata": {},
   "source": [
    "Homework hack 1"
   ]
  },
  {
   "cell_type": "code",
   "execution_count": 7,
   "metadata": {},
   "outputs": [
    {
     "name": "stdout",
     "output_type": "stream",
     "text": [
      "Alice → Team Phoenix\n",
      "Ben → Team Phoenix\n",
      "Carla → Team Phoenix\n",
      "Daniel → Team Titan\n",
      "Eva → Team Phoenix\n",
      "Felix → Team Dragon\n",
      "Grace → Team Titan\n",
      "Hannah → Team Phoenix\n",
      "Isaac → Team Dragon\n",
      "Jade → Team Phoenix\n",
      "Kyle → Team Phoenix\n",
      "Luna → Team Titan\n",
      "Marcus → Team Dragon\n",
      "Nina → Team Titan\n",
      "Oscar → Team Dragon\n"
     ]
    }
   ],
   "source": [
    "import random\n",
    "\n",
    "students = [\n",
    "    \"Alice\", \"Ben\", \"Carla\", \"Daniel\", \"Eva\",\n",
    "    \"Felix\", \"Grace\", \"Hannah\", \"Isaac\", \"Jade\",\n",
    "    \"Kyle\", \"Luna\", \"Marcus\", \"Nina\", \"Oscar\"\n",
    "]\n",
    "\n",
    "teams = [\"Team Phoenix\", \"Team Dragon\", \"Team Titan\"]\n",
    "assignments = {}\n",
    "\n",
    "for student in students:\n",
    "    team = random.choice(teams)\n",
    "    assignments[student] = team\n",
    "\n",
    "for student, team in assignments.items():\n",
    "    print(f\"{student} → {team}\")\n"
   ]
  },
  {
   "cell_type": "markdown",
   "metadata": {},
   "source": [
    "Homework Hack 2"
   ]
  },
  {
   "cell_type": "code",
   "execution_count": 8,
   "metadata": {},
   "outputs": [
    {
     "name": "stdout",
     "output_type": "stream",
     "text": [
      "Day 1: Sunny\n",
      "Day 2: Sunny\n",
      "Day 3: Sunny\n",
      "Day 4: Sunny\n",
      "Day 5: Sunny\n",
      "Day 6: Sunny\n",
      "Day 7: Sunny\n"
     ]
    }
   ],
   "source": [
    "import random\n",
    "\n",
    "weather_types = [\"Sunny\", \"Cloudy\", \"Rainy\"]\n",
    "forecast = []\n",
    "\n",
    "for day in range(1, 8):\n",
    "    weather = random.choice(weather_types)\n",
    "    forecast.append(weather)\n",
    "    print(f\"Day {day}: {weather}\")\n"
   ]
  },
  {
   "cell_type": "markdown",
   "metadata": {},
   "source": [
    "Homework Hack 3"
   ]
  },
  {
   "cell_type": "code",
   "execution_count": 9,
   "metadata": {},
   "outputs": [
    {
     "name": "stdout",
     "output_type": "stream",
     "text": [
      "Customer 1 - Served in 1 minutes\n",
      "Customer 2 - Served in 1 minutes\n",
      "Customer 3 - Served in 1 minutes\n",
      "Customer 4 - Served in 3 minutes\n",
      "Customer 5 - Served in 2 minutes\n",
      "\n",
      "Total time to serve all customers: 8 minutes\n"
     ]
    }
   ],
   "source": [
    "import random\n",
    "\n",
    "customers = [\"Customer 1\", \"Customer 2\", \"Customer 3\", \"Customer 4\", \"Customer 5\"]\n",
    "total_time = 0\n",
    "\n",
    "for customer in customers:\n",
    "    service_time = random.randint(1, 5)\n",
    "    total_time += service_time\n",
    "    print(f\"{customer} - Served in {service_time} minutes\")\n",
    "\n",
    "print(\"\\nTotal time to serve all customers:\", total_time, \"minutes\")\n"
   ]
  }
 ],
 "metadata": {
  "kernelspec": {
   "display_name": "venv",
   "language": "python",
   "name": "python3"
  },
  "language_info": {
   "codemirror_mode": {
    "name": "ipython",
    "version": 3
   },
   "file_extension": ".py",
   "mimetype": "text/x-python",
   "name": "python",
   "nbconvert_exporter": "python",
   "pygments_lexer": "ipython3",
   "version": "3.12.9"
  }
 },
 "nbformat": 4,
 "nbformat_minor": 2
}
