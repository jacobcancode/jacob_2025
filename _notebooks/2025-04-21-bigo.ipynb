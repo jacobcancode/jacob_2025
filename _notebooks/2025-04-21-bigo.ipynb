{
 "cells": [
  {
   "cell_type": "raw",
   "metadata": {
    "vscode": {
     "languageId": "raw"
    }
   },
   "source": [
    "---\n",
    "layout: post\n",
    "title: Big O\n",
    "permalink: /posts/bigo/\n",
    "---"
   ]
  },
  {
   "cell_type": "markdown",
   "metadata": {},
   "source": [
    "Popcorn Hack 1"
   ]
  },
  {
   "cell_type": "code",
   "execution_count": 1,
   "metadata": {},
   "outputs": [
    {
     "name": "stdout",
     "output_type": "stream",
     "text": [
      "O(1): 3\n",
      "O(n):\n",
      "1\n",
      "2\n",
      "3\n",
      "4\n",
      "5\n"
     ]
    }
   ],
   "source": [
    "arr = [1, 2, 3, 4, 5]\n",
    "\n",
    "# Constant time (O(1)) - Direct access\n",
    "print(\"O(1):\", arr[2])  # 3\n",
    "\n",
    "# Linear time (O(n)) - Loop through entire list\n",
    "print(\"O(n):\")\n",
    "for num in arr:\n",
    "    print(num)\n"
   ]
  },
  {
   "cell_type": "markdown",
   "metadata": {},
   "source": [
    "Popcorn Hack 2"
   ]
  },
  {
   "cell_type": "code",
   "execution_count": 2,
   "metadata": {},
   "outputs": [
    {
     "name": "stdout",
     "output_type": "stream",
     "text": [
      "(1, 2)\n",
      "(1, 3)\n",
      "(2, 3)\n"
     ]
    }
   ],
   "source": [
    "arr = [1, 2, 3]\n",
    "\n",
    "# Unique pairs\n",
    "def print_unique_pairs(arr):\n",
    "    for i in range(len(arr)):\n",
    "        for j in range(i + 1, len(arr)):\n",
    "            print(f\"({arr[i]}, {arr[j]})\")\n",
    "\n",
    "print_unique_pairs(arr)\n"
   ]
  },
  {
   "cell_type": "markdown",
   "metadata": {},
   "source": [
    "Popcorn Hack 3"
   ]
  },
  {
   "cell_type": "code",
   "execution_count": null,
   "metadata": {},
   "outputs": [],
   "source": [
    "# Question 1: Which is inefficient for large inputs?\n",
    "# Answer: b) Factorial Time\n",
    "\n",
    "# Question 2: Which can be represented by a nested loop?\n",
    "# Answer: c) Quadratic Time\n"
   ]
  },
  {
   "cell_type": "markdown",
   "metadata": {},
   "source": [
    "Homework Hacks"
   ]
  },
  {
   "cell_type": "code",
   "execution_count": 3,
   "metadata": {},
   "outputs": [
    {
     "name": "stdout",
     "output_type": "stream",
     "text": [
      "Constant Time Result: 5\n",
      "\n",
      "Linear Time:\n",
      "5\n",
      "10\n",
      "15\n",
      "20\n",
      "25\n",
      "\n",
      "Quadratic Time:\n",
      "(5, 5)\n",
      "(5, 10)\n",
      "(5, 15)\n",
      "(5, 20)\n",
      "(5, 25)\n",
      "(10, 5)\n",
      "(10, 10)\n",
      "(10, 15)\n",
      "(10, 20)\n",
      "(10, 25)\n",
      "(15, 5)\n",
      "(15, 10)\n",
      "(15, 15)\n",
      "(15, 20)\n",
      "(15, 25)\n",
      "(20, 5)\n",
      "(20, 10)\n",
      "(20, 15)\n",
      "(20, 20)\n",
      "(20, 25)\n",
      "(25, 5)\n",
      "(25, 10)\n",
      "(25, 15)\n",
      "(25, 20)\n",
      "(25, 25)\n"
     ]
    }
   ],
   "source": [
    "def time_complexity_demo(arr, complexity_type):\n",
    "    if complexity_type == \"constant\":\n",
    "        return arr[0]  # O(1)\n",
    "    \n",
    "    elif complexity_type == \"linear\":\n",
    "        for item in arr:  # O(n)\n",
    "            print(item)\n",
    "    \n",
    "    elif complexity_type == \"quadratic\":\n",
    "        for i in arr:  # O(n²)\n",
    "            for j in arr:\n",
    "                print(f\"({i}, {j})\")\n",
    "\n",
    "# Example test calls:\n",
    "arr = [5, 10, 15, 20, 25]\n",
    "\n",
    "print(\"Constant Time Result:\", time_complexity_demo(arr, \"constant\"))\n",
    "print(\"\\nLinear Time:\")\n",
    "time_complexity_demo(arr, \"linear\")\n",
    "print(\"\\nQuadratic Time:\")\n",
    "time_complexity_demo(arr, \"quadratic\")\n"
   ]
  }
 ],
 "metadata": {
  "kernelspec": {
   "display_name": "venv",
   "language": "python",
   "name": "python3"
  },
  "language_info": {
   "codemirror_mode": {
    "name": "ipython",
    "version": 3
   },
   "file_extension": ".py",
   "mimetype": "text/x-python",
   "name": "python",
   "nbconvert_exporter": "python",
   "pygments_lexer": "ipython3",
   "version": "3.12.9"
  }
 },
 "nbformat": 4,
 "nbformat_minor": 2
}
