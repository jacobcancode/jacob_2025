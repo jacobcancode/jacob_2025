{
 "cells": [
  {
   "cell_type": "markdown",
   "metadata": {},
   "source": [
    "---\n",
    "layout: post\n",
    "title: Binary Search\n",
    "permalink: /posts/binary/\n",
    "---"
   ]
  },
  {
   "cell_type": "markdown",
   "metadata": {},
   "source": [
    "Popcorn Hack 1\n",
    "Question: Which condition must be met for BinarySearch(numList, target) to work?\n",
    "\n",
    "Answer: ✅ c) The values in numList must be in sorted order\n",
    "\n",
    "Explanation: Binary Search only works on a sorted list. If the list isn't sorted, the whole premise of cutting the search space in half fails.\n",
    "\n",
    " Popcorn Hack 2\n",
    "Question: Which statement describes a disadvantage of binary search?\n",
    "\n",
    "Answer: ✅ b) Binary search cannot be used on unsorted lists without modifications\n",
    "\n",
    "Explanation: Binary search requires a sorted list. Linear search works on any list.\n",
    "\n"
   ]
  },
  {
   "cell_type": "markdown",
   "metadata": {},
   "source": [
    "def binary_search_char(arr, target):\n",
    "    low, high = 0, len(arr) - 1\n",
    "\n",
    "    while low <= high:\n",
    "        mid = (low + high) // 2\n",
    "        if arr[mid] == target:\n",
    "            return mid\n",
    "        elif arr[mid] < target:\n",
    "            low = mid + 1\n",
    "        else:\n",
    "            high = mid - 1\n",
    "    return -1\n"
   ]
  },
  {
   "cell_type": "markdown",
   "metadata": {},
   "source": [
    "\n",
    "\n",
    "# Test\n",
    "letters = ['a', 'b', 'c', 'd', 'e', 'f', 'g']\n",
    "print(binary_search_char(letters, 'c'))  # Output: 2"
   ]
  },
  {
   "cell_type": "code",
   "execution_count": null,
   "metadata": {},
   "outputs": [],
   "source": [
    "import pandas as pd\n",
    "\n",
    "# Load the dataset\n",
    "data = pd.read_csv(\"school_supplies.csv\")\n",
    "\n",
    "# Drop rows with missing values\n",
    "data_cleaned = data.dropna()\n",
    "\n",
    "# Sort by Price\n",
    "data_sorted = data_cleaned.sort_values(by=\"Price\")\n",
    "\n",
    "# Extract sorted Price list\n",
    "price_list = data_sorted[\"Price\"].tolist()\n",
    "\n",
    "# Binary Search function\n",
    "def binary_search_prices(prices, target):\n",
    "    low, high = 0, len(prices) - 1\n",
    "    while low <= high:\n",
    "        mid = (low + high) // 2\n",
    "        if prices[mid] == target:\n",
    "            return mid\n",
    "        elif prices[mid] < target:\n",
    "            low = mid + 1\n",
    "        else:\n",
    "            high = mid - 1\n",
    "    return -1\n",
    "\n",
    "# Prices to search\n",
    "targets = [1.25, 6.49, 10.00]\n",
    "\n",
    "# Search and print results\n",
    "for price in targets:\n",
    "    result = binary_search_prices(price_list, price)\n",
    "    if result != -1:\n",
    "        print(f\" Price ${price} found at index {result}.\")\n",
    "    else:\n",
    "        print(f\" Price ${price} not found.\")\n",
    "\n",
    "# Output explanation\n",
    "print(\"\\n How it works:\")\n",
    "print(\"1. Dataset is loaded using pandas.\")\n",
    "print(\"2. Rows with missing values are dropped.\")\n",
    "print(\"3. Data is sorted by the 'Price' column.\")\n",
    "print(\"4. Prices are extracted into a list.\")\n",
    "print(\"5. Binary search is used to find target prices in the sorted list.\")\n"
   ]
  }
 ],
 "metadata": {
  "language_info": {
   "name": "python"
  }
 },
 "nbformat": 4,
 "nbformat_minor": 2
}
