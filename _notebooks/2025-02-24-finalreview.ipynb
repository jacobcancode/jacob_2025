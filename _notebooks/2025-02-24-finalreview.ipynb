{
 "cells": [
  {
   "cell_type": "raw",
   "metadata": {
    "vscode": {
     "languageId": "raw"
    }
   },
   "source": [
    "---\n",
    "layout: post\n",
    "title: PPR\n",
    "permalink: /posts/CPT\n",
    "comments: true\n",
    "---"
   ]
  },
  {
   "cell_type": "markdown",
   "metadata": {},
   "source": [
    "# User Inputs\n",
    "<img src=\"{{site.baseurl}}/images/PPR4.png\">\n",
    "When update book button is hit it gives a prompt for the user to input data which when submited updates the data on the page and in the database\n",
    "\n",
    "# Lists/Data Collection\n",
    "<img src=\"{{site.baseurl}}/images/PPR5.png\">\n",
    "When the page is loaded data from the database is fetched and posted on the site. This could post anybook athor and genre combination. Ex: Harry Potter, Jk Rowling, Fantasy \n",
    "# Error Handling\n",
    "<img src=\"{{site.baseurl}}/images/PPR3.png\">\n",
    "\n",
    "- Uses Differnt types of error handling to indentify errors if any\n",
    "\n",
    "# Back-End CRUD Operations\n",
    "\n",
    "<img src=\"{{site.baseurl}}/images/PPR1.png\">\n",
    "\n",
    "- The process of problem-solving (Line 1 - Line 10): The code clearly outlines how the system addresses the problem of updating a book's information. It ensures that the right data is collected, validated, and processed.\n",
    "\n",
    "- Interaction with the database (Line 4, Line 7 - Line 9): The code demonstrates how data is fetched from and updated in a database.\n",
    "\n",
    "- Managing and manipulating data (Line 2, Line 3, Line 5): The code uses input validation and error handling to manage and ensure the integrity of the data being processed.\n",
    "\n",
    "- Abstraction and algorithm design (Line 10): The use of the update() method encapsulates complexity and provides a simple interface for updating a book record.\n",
    "\n",
    "- Error handling and feedback (Line 2, Line 3, Line 5): The function provides clear feedback to users, which is crucial for usability and debugging.\n",
    "\n",
    "<img src=\"{{site.baseurl}}/images/PPR2.png\">\n",
    "- The process of problem-solving (Line 1 - Line 10): The code demonstrates problem-solving by first validating the input, checking for duplicate entries, creating a new record, and then handling errors appropriately. This follows a logical sequence of Lines for handling a book creation request.\n",
    "\n",
    "- Interaction with the database (Line 4, Line 7 - Line 8): The code interacts with a database using ORM methods like filter_by() and create(). These methods are essential for managing and manipulating data in the backend.\n",
    "- Managing and manipulating data (Line 2, Line 5, Line 6): The function checks and validates the input data, ensuring that the title is present and that no duplicate books are created.\n",
    "\n",
    "- Abstraction and algorithm design (Line 7, Line 8): The create() and read() methods abstract the database logic, providing a cleaner and more maintainable approach to saving and retrieving the book’s data.\n",
    "Error handling and feedback (Line 2, Line 5, Line 9): The code handles different error scenarios with appropriate feedback (e.g., returning error messages for missing title or existing book), which improves the user experience and makes debugging easier.\n",
    "\n",
    "- Input/output processing and validation (Line 2, Line 3, Line 10): The code processes the input (ensuring required fields are present) and returns output (the created book or error message). Proper validation is performed to ensure data integrity.\n"
   ]
  }
 ],
 "metadata": {
  "language_info": {
   "name": "python"
  }
 },
 "nbformat": 4,
 "nbformat_minor": 2
}
