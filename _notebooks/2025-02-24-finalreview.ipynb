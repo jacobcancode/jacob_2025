{
 "cells": [
  {
   "cell_type": "raw",
   "metadata": {
    "vscode": {
     "languageId": "raw"
    }
   },
   "source": [
    "---\n",
    "layout: post\n",
    "title: PPR\n",
    "permalink: /posts/CPT\n",
    "comments: true\n",
    "---"
   ]
  },
  {
   "cell_type": "markdown",
   "metadata": {},
   "source": []
  },
  {
   "cell_type": "markdown",
   "metadata": {},
   "source": [
    "# CPT\n",
    "\n",
    "For my Create Performance Task (CPT), I built Litconnect, a web application designed to unite book lovers through an interactive platform. Litconnect provides a seamless experience for users to log in, track books, review them, and interact with other readers. This blog post reflects on how Litconnect meets the CPT requirements, highlighting key features and my personal journey during the development process.\n",
    "\n",
    "# Program Function and Purpose:\n",
    "The primary purpose of Litconnect is to create an engaging community for readers. The website allows users to log in and track books they’ve read, leave reviews, and interact with fellow readers. By providing personalized features, Litconnect aims to enhance the reading experience while fostering a sense of connection among users.\n",
    "\n",
    "To meet the CPT's collaboration and project management requirements, I used Agile methodologies with Kanban boards to organize tasks. This approach helped me break down the project into manageable iterations, ensuring steady progress. For example, I first focused on the user login system, followed by implementing the book-tracking feature and later the review system. This incremental development process mirrored the SCRUM and Agile techniques that are common in professional development environments.\n",
    "\n",
    "# Frontend and Backend Integration:\n",
    "One of the key aspects of my project was integrating the frontend and backend to ensure smooth functionality. The frontend was designed with HTML, CSS, and JavaScript, making it visually appealing and easy to navigate. I aimed for a user-friendly interface where users could log in, add books to their lists, and view other readers' reviews.\n",
    "\n",
    "The backend was built using Python Flask to manage user data, book records, and reviews. I used SQLite as my database to store user information and book data efficiently. Each user has their own profile, and their book preferences and reviews are stored in individual databases. I ensured that the backend properly handled login requests and dynamically updated the book-tracking information on the frontend.\n",
    "\n",
    "This integration of the frontend and backend fulfilled the CPT's requirement to integrate frontend and backend functionalities in a seamless manner.\n",
    "\n",
    "# Program Design and Development:\n",
    "The design of Litconnect evolved through continuous feedback and testing. Initially, the project was basic, with just a login system and book list. As the project progressed, I incorporated feedback to add more features like a review system, where users can rate and leave comments on books. This iterative development process exemplified the improving applications requirement in the CPT.\n",
    "\n",
    "To document my design process, I used UML diagrams and flowcharts with tools like draw.io to plan out the architecture of the app and illustrate data flows between the frontend and backend. These documents helped me organize my thoughts and ensure that the system was logically structured.\n",
    "\n",
    "I also followed PEP 8 style guidelines for clean and maintainable code. Throughout the development process, I wrote comments in my code to explain key logic and functions, making it easier for anyone else working on the project to understand the code.\n",
    "\n",
    "# Debugging and Testing:\n",
    "Debugging was one of the most challenging aspects of this project, but it was also where I learned the most. I used Postman to test and debug the backend API calls, making sure data was being correctly retrieved and updated in the SQLite database. On the frontend, I utilized browser Inspect tools to trace and debug JavaScript and CSS issues.\n",
    "\n",
    "I also implemented basic unit testing to validate that the core features of the application, like user login and book data storage, were functioning correctly. Using test data and various test scenarios helped me identify potential issues before they became major roadblocks.\n",
    "\n",
    "This thorough testing and debugging process ensured that my app ran smoothly and met the CPT requirement for debugging and fixing errors.\n",
    "\n",
    "# Data Management:\n",
    "Data management is a critical component of Litconnect, as it involves storing user data, books, and reviews. I used SQLite to manage the relational data, ensuring that each user has their own database entry. The database schema was designed to handle multiple book entries, associate users with their books, and store reviews.\n",
    "\n",
    "To implement data security and privacy, I followed best practices, such as using hashed passwords for user authentication. I also ensured that sensitive information was encrypted, and I added authentication mechanisms to secure user accounts.\n",
    "\n",
    "Data retrieval was a crucial part of Litconnect. I wrote SQL queries to retrieve the correct data based on user requests, ensuring fast and efficient performance when displaying book lists and reviews.\n",
    "\n",
    "Deployment and Performance Optimization:\n",
    "Once I completed the application, I deployed it on Heroku, ensuring that it was easily accessible to users. The deployment process involved setting up continuous integration/continuous deployment (CI/CD) pipelines to automate the deployment every time I made a change.\n",
    "\n",
    "I also optimized both the frontend and backend to ensure smooth performance. On the frontend, I minimized image sizes, used caching for static resources, and reduced unnecessary HTTP requests. For the backend, I used database indexing and optimized SQL queries to reduce latency and improve response times.\n",
    "\n",
    "<img src=\"{{site.baseurl}}/images/PPR1.png\">\n",
    "AP Computer Science Principles CPT Requirements:\n",
    "\n",
    "- The process of problem-solving (Line 1 - Line 10): The code clearly outlines how the system addresses the problem of updating a book's information. It ensures that the right data is collected, validated, and processed.\n",
    "\n",
    "- Interaction with the database (Line 4, Line 7 - Line 9): The code demonstrates how data is fetched from and updated in a database.\n",
    "\n",
    "- Managing and manipulating data (Line 2, Line 3, Line 5): The code uses input validation and error handling to manage and ensure the integrity of the data being processed.\n",
    "\n",
    "- Abstraction and algorithm design (Line 10): The use of the update() method encapsulates complexity and provides a simple interface for updating a book record.\n",
    "\n",
    "- Error handling and feedback (Line 2, Line 3, Line 5): The function provides clear feedback to users, which is crucial for usability and debugging.\n",
    "\n",
    "<img src=\"{{site.baseurl}}/images/PPR2.png\">\n",
    "- The process of problem-solving (Line 1 - Line 10): The code demonstrates problem-solving by first validating the input, checking for duplicate entries, creating a new record, and then handling errors appropriately. This follows a logical sequence of Lines for handling a book creation request.\n",
    "\n",
    "- Interaction with the database (Line 4, Line 7 - Line 8): The code interacts with a database using ORM methods like filter_by() and create(). These methods are essential for managing and manipulating data in the backend.\n",
    "- Managing and manipulating data (Line 2, Line 5, Line 6): The function checks and validates the input data, ensuring that the title is present and that no duplicate books are created.\n",
    "\n",
    "- Abstraction and algorithm design (Line 7, Line 8): The create() and read() methods abstract the database logic, providing a cleaner and more maintainable approach to saving and retrieving the book’s data.\n",
    "Error handling and feedback (Line 2, Line 5, Line 9): The code handles different error scenarios with appropriate feedback (e.g., returning error messages for missing title or existing book), which improves the user experience and makes debugging easier.\n",
    "\n",
    "- Input/output processing and validation (Line 2, Line 3, Line 10): The code processes the input (ensuring required fields are present) and returns output (the created book or error message). Proper validation is performed to ensure data integrity.\n"
   ]
  }
 ],
 "metadata": {
  "language_info": {
   "name": "python"
  }
 },
 "nbformat": 4,
 "nbformat_minor": 2
}
