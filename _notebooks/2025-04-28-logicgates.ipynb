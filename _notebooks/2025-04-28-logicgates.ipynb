{
 "cells": [
  {
   "cell_type": "raw",
   "metadata": {},
   "source": [
    "---\n",
    "layout: post\n",
    "title: Logic Gates\n",
    "permalink: /posts/lg/\n",
    "---"
   ]
  },
  {
   "cell_type": "markdown",
   "metadata": {},
   "source": [
    "Popcorn Hack 1"
   ]
  },
  {
   "cell_type": "markdown",
   "metadata": {},
   "source": [
    "Q: What are methods of real-world purpose that using logic gates can implement?\n",
    "\n",
    "Authorization (AND Gate): Need both keycard and PIN = better security.\n",
    "\n",
    "Automatic doors (OR Gate): Door opens if motion sensor or button triggers = easier access"
   ]
  },
  {
   "cell_type": "markdown",
   "metadata": {},
   "source": [
    "Popcorn Hack 2"
   ]
  },
  {
   "cell_type": "markdown",
   "metadata": {},
   "source": [
    "Q: A digital circuit receives three binary inputs: X, Y, and Z. The circuit outputs 1 if and only if X AND Y are both 1, OR Z is 1.\n",
    "Correct expression: A. (X AND Y) OR Z\n",
    "\n",
    "\"X AND Y are both 1\" → X AND Y\n",
    "\n",
    "\"OR Z is 1\" → then OR with Z → (X AND Y) OR Z"
   ]
  },
  {
   "cell_type": "markdown",
   "metadata": {},
   "source": [
    "Homework Hack "
   ]
  },
  {
   "cell_type": "code",
   "execution_count": 1,
   "metadata": {},
   "outputs": [
    {
     "name": "stdout",
     "output_type": "stream",
     "text": [
      "1\n",
      "0\n",
      "0\n",
      "0\n"
     ]
    }
   ],
   "source": [
    "def secure_entry_system(keycard, pin, voice_auth):\n",
    "    def AND(a, b):\n",
    "        return a & b  # AND logic\n",
    "\n",
    "    # Now we AND all three: (keycard AND pin) AND voice_auth\n",
    "    return AND(AND(keycard, pin), voice_auth)\n",
    "\n",
    "# Test cases\n",
    "print(secure_entry_system(1, 1, 1))  # Expected Output: 1 (Access Granted)\n",
    "print(secure_entry_system(1, 1, 0))  # Expected Output: 0 (Access Denied)\n",
    "print(secure_entry_system(1, 0, 1))  # Expected Output: 0 (Access Denied)\n",
    "print(secure_entry_system(0, 1, 1))  # Expected Output: 0 (Access Denied)\n"
   ]
  }
 ],
 "metadata": {
  "kernelspec": {
   "display_name": "venv",
   "language": "python",
   "name": "python3"
  },
  "language_info": {
   "codemirror_mode": {
    "name": "ipython",
    "version": 3
   },
   "file_extension": ".py",
   "mimetype": "text/x-python",
   "name": "python",
   "nbconvert_exporter": "python",
   "pygments_lexer": "ipython3",
   "version": "3.12.9"
  }
 },
 "nbformat": 4,
 "nbformat_minor": 2
}
